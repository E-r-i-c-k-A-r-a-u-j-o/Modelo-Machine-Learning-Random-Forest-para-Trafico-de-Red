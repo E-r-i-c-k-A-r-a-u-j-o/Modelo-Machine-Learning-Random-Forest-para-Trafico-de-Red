{
 "cells": [
  {
   "cell_type": "code",
   "execution_count": 5,
   "id": "f9313fe3-cfa1-46fe-a562-a193b0fb181d",
   "metadata": {},
   "outputs": [],
   "source": [
    "from fastapi import FastAPI, HTTPException\n",
    "from pydantic import BaseModel\n",
    "import numpy as np\n",
    "from joblib import load\n",
    "\n",
    "# Cargar el modelo y el escalador\n",
    "try:\n",
    "    modelo = load('random_forest_model.pkl')  # Asegúrate de que el archivo esté en el mismo directorio\n",
    "    scaler = load('random_forest_scaler.pkl')\n",
    "except Exception as e:\n",
    "    raise RuntimeError(f\"Error cargando modelo o escalador: {str(e)}\")\n",
    "\n",
    "# Inicializar la aplicación FastAPI\n",
    "app = FastAPI()\n",
    "\n",
    "# Clase para definir la estructura de los datos de entrada\n",
    "class InputData(BaseModel):\n",
    "    features: list[float]  # Lista de valores para las características\n",
    "\n",
    "# Ruta de prueba\n",
    "@app.get(\"/\")\n",
    "def home():\n",
    "    return {\"mensaje\": \"API funcionando correctamente\"}\n",
    "\n",
    "# Ruta para predecir\n",
    "@app.post(\"/predict/\")\n",
    "def predict(data: InputData):\n",
    "    try:\n",
    "        # Convertir la lista de entrada a un array de NumPy\n",
    "        input_features = np.array(data.features).reshape(1, -1)\n",
    "\n",
    "        # Escalar los datos con el escalador\n",
    "        scaled_features = scaler.transform(input_features)\n",
    "\n",
    "        # Realizar la predicción\n",
    "        prediction = modelo.predict(scaled_features)\n",
    "        probability = modelo.predict_proba(scaled_features)\n",
    "\n",
    "        # Devolver los resultados\n",
    "        return {\n",
    "            \"prediction\": int(prediction[0]),  # Resultado de la predicción\n",
    "            \"probability\": probability.tolist()  # Probabilidades asociadas\n",
    "        }\n",
    "    except Exception as e:\n",
    "        raise HTTPException(status_code=400, detail=f\"Error al procesar la predicción: {str(e)}\")\n"
   ]
  },
  {
   "cell_type": "code",
   "execution_count": 6,
   "id": "d0aa5cb7-abb6-43c5-b989-6fceea66f6dc",
   "metadata": {},
   "outputs": [
    {
     "data": {
      "text/plain": [
       "<fastapi.applications.FastAPI at 0x143579f61e0>"
      ]
     },
     "execution_count": 6,
     "metadata": {},
     "output_type": "execute_result"
    }
   ],
   "source": [
    "app"
   ]
  }
 ],
 "metadata": {
  "kernelspec": {
   "display_name": "Python 3 (ipykernel)",
   "language": "python",
   "name": "python3"
  },
  "language_info": {
   "codemirror_mode": {
    "name": "ipython",
    "version": 3
   },
   "file_extension": ".py",
   "mimetype": "text/x-python",
   "name": "python",
   "nbconvert_exporter": "python",
   "pygments_lexer": "ipython3",
   "version": "3.12.7"
  }
 },
 "nbformat": 4,
 "nbformat_minor": 5
}
